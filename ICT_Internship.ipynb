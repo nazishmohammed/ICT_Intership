{
  "nbformat": 4,
  "nbformat_minor": 0,
  "metadata": {
    "colab": {
      "provenance": []
    },
    "kernelspec": {
      "name": "python3",
      "display_name": "Python 3"
    },
    "language_info": {
      "name": "python"
    }
  },
  "cells": [
    {
      "cell_type": "code",
      "source": [
        "import cv2\n",
        "import os\n",
        "import numpy as np\n",
        "\n",
        "def preprocess_image(image_path, target_size=(224, 224)):\n",
        "    # Read the image\n",
        "    image = cv2.imread(image_path)\n",
        "    # Resize the image\n",
        "    image_resized = cv2.resize(image, target_size)\n",
        "    # Normalize the image\n",
        "    image_normalized = image_resized / 255.0\n",
        "    return image_normalized\n",
        "\n",
        "def load_and_preprocess_images(image_folder):\n",
        "    data = []\n",
        "    labels = []\n",
        "    for student_name in os.listdir(image_folder):\n",
        "        student_folder = os.path.join(image_folder, student_name)\n",
        "        if os.path.isdir(student_folder):\n",
        "            for image_name in os.listdir(student_folder):\n",
        "                image_path = os.path.join(student_folder, image_name)\n",
        "                preprocessed_image = preprocess_image(image_path)\n",
        "                data.append(preprocessed_image)\n",
        "                labels.append(student_name)\n",
        "    return np.array(data), np.array(labels)\n",
        "\n",
        "# Setting image path\n",
        "image_folder = \"D:/Desktop/Academics/AI_ML ICT/Internship/Images/Faces/Faces\"\n",
        "data, labels = load_and_preprocess_images(image_folder)\n",
        "\n",
        "# Split the dataset into training, validation, and test sets\n",
        "from sklearn.model_selection import train_test_split\n",
        "data_train, data_temp, labels_train, labels_temp = train_test_split(data, labels, test_size=0.3, random_state=42)\n",
        "data_val, data_test, labels_val, labels_test = train_test_split(data_temp, labels_temp, test_size=0.5, random_state=42)\n",
        "\n",
        "# Save the preprocessed data and labels\n",
        "np.save(\"data_train.npy\", data_train)\n",
        "np.save(\"labels_train.npy\", labels_train)\n",
        "np.save(\"data_val.npy\", data_val)\n",
        "np.save(\"labels_val.npy\", labels_val)\n",
        "np.save(\"data_test.npy\", data_test)\n",
        "np.save(\"labels_test.npy\", labels_test)"
      ],
      "metadata": {
        "id": "oARwKz00AdrQ"
      },
      "execution_count": null,
      "outputs": []
    }
  ]
}